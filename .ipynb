{
 "cells": [
  {
   "cell_type": "code",
   "execution_count": 1,
   "metadata": {},
   "outputs": [],
   "source": [
    "#pip install openpyxl\n",
    "#https://www.youtube.com/watch?v=IJ-PJbvJBGs&ab_channel=ProgrammingKnowledge   (JAVA_HOME)\n",
    "\n",
    "import os, requests\n",
    "import pandas as pd\n",
    "from bs4 import BeautifulSoup\n",
    "from requests import get\n",
    "from discord_webhook import DiscordWebhook"
   ]
  },
  {
   "cell_type": "code",
   "execution_count": 2,
   "metadata": {},
   "outputs": [
    {
     "name": "stdout",
     "output_type": "stream",
     "text": [
      "C:\\Program Files\\Java\\jdk-15.0.1\n",
      "https://discord.com/api/webhooks/769296513456668782/2xAa563Yx4z1AWv-R8FosD-BD7xaWwokJC2kgwttwtMPiAhlcw9FpAs4jFje4dCy_Vku\n"
     ]
    }
   ],
   "source": [
    "# Webhook settings\n",
    "home = os.environ['HOME'] \n",
    "java_home = os.environ.get('JAVA_HOME')\n",
    "print(java_home) \n",
    "\n",
    "url_wb = os.environ.get('DISCORD_WH')\n",
    "#https://discord.com/api/webhooks/769296513456668782/2xAa563Yx4z1AWv-R8FosD-BD7xaWwokJC2kgwttwtMPiAhlcw9FpAs4jFje4dCy_Vku\n",
    "\n",
    "\n",
    "print(url_wb)"
   ]
  },
  {
   "cell_type": "code",
   "execution_count": 7,
   "metadata": {},
   "outputs": [
    {
     "name": "stdout",
     "output_type": "stream",
     "text": [
      "[<a class=\"css-sbrje5\" data-bn-type=\"link\" href=\"/en/support/announcement/6722fc3938fc4a7da1afdd775db48e58\">Binance Lists Audius (AUDIO), Deposits Are Now Open</a>, <a class=\"css-sbrje5\" data-bn-type=\"link\" href=\"/en/support/announcement/0206189a6e4f4091b6b8d21dcbbfa574\">Cross Margin Trading for FIL Enabled on Binance</a>, <a class=\"css-sbrje5\" data-bn-type=\"link\" href=\"/en/support/announcement/aabd47265a6541638745101637ef65d2\">Binance Will List EasyFi (EASY) in the Innovation Zone</a>, <a class=\"css-sbrje5\" data-bn-type=\"link\" href=\"/en/support/announcement/a97c643714d34aeab709707076ac09fc\">Binance Adds LINK/EUR &amp; ONE/BUSD Trading Pairs</a>, <a class=\"css-sbrje5\" data-bn-type=\"link\" href=\"/en/support/announcement/1841b3af92f34349a918f80cb8fcc9de\">Notice of Removal of Trading Pairs - 2020/10/23</a>, <a class=\"css-sbrje5\" data-bn-type=\"link\" href=\"/en/support/announcement/c1637d28500c4bfe9bc7a53b1f368e25\">Binance Has Distributed September Staking Rewards</a>, <a class=\"css-sbrje5\" data-bn-type=\"link\" href=\"/en/support/announcement/cdbeba56f33545b6af73ee15cbcb2b0e\">Binance Futures Increased Maximum Leverage for ETH Coin-Margined Perpetual to 100x</a>, <a class=\"css-sbrje5\" data-bn-type=\"link\" href=\"/en/support/announcement/7537a1bb6d6d41d79a43ea08c3c6efcd\">Binance Earn is Launching ADA High-Yield Products. Top Up to Share 1,000,000 ADA</a>, <a class=\"css-sbrje5\" data-bn-type=\"link\" href=\"/en/support/announcement/657465179b934cc8ab9261cb0bcca01d\">Binance Liquid Swap Adds GBP Support and Opens GBP/USDT Liquidity Pool</a>, <a class=\"css-sbrje5\" data-bn-type=\"link\" href=\"/en/support/announcement/a7cfd7467dab44a6890f331c1c38e330\">Binance Futures Increases Maximum Leverage for ETH USDT-Margined Perpetual to 100x</a>, <a class=\"css-sbrje5\" data-bn-type=\"link\" href=\"/en/support/announcement/75826020fabe481f9cc3203b92483e19\">Chromia (CHR) Trading Competition - $50,000 to be Won!</a>, <a class=\"css-sbrje5\" data-bn-type=\"link\" href=\"/en/support/announcement/5b111920996f442488f6fd8fa6b0377d\">Multiple Campaigns (ADX, DOCK, BAKE &amp; ALGO) Have Now Concluded</a>, <a class=\"css-sbrje5\" data-bn-type=\"link\" href=\"/en/support/announcement/20240977a05c4db1a4fb39dc8003d53e\">Introducing the Binance Pool 0% Pool Fee Event, Enjoy Up To 30% additional Annualized Income with Pool Savings</a>, <a class=\"css-sbrje5\" data-bn-type=\"link\" href=\"/en/support/announcement/e1088ef3bd9142578cf2f1b04e1e2fcf\">Streamr (DATA) Promotion - $60,000 in Trading Competition + Earn up to 20% APY!</a>, <a class=\"css-sbrje5\" data-bn-type=\"link\" href=\"/en/support/announcement/010f8e1332be4abdb5c8b6ffca7144c7\">Binance Futures Tournament #2 Competition Has Now Concluded</a>, <a class=\"css-sbrje5\" data-bn-type=\"link\" href=\"/en/support/announcement/5dced09c2e3743ae9cf534f067df657b\">Binance P2P Supports Cash-in-Person Transactions as a Payment Method</a>, <a class=\"css-sbrje5\" data-bn-type=\"link\" href=\"/en/support/announcement/00e11dc64dd54450a7ca9aa3a75913dd\">Binance Extends EUR Zero Maker Fee Promotion until 2020/10/30</a>, <a class=\"css-sbrje5\" data-bn-type=\"link\" href=\"/en/support/announcement/21f0b4b18b0e4ae3a4aa48591dfe4bd4\">Buy Crypto with ZERO Fees with Credit/Debit Card!</a>, <a class=\"css-sbrje5\" data-bn-type=\"link\" href=\"/en/support/announcement/4cd9d6abe4f24bc3861eb44103ea8edc\">Binance Enables Buy Crypto with Credit/Debit Cards Feature for MXN, COP, CLP and PEN </a>, <a class=\"css-sbrje5\" data-bn-type=\"link\" href=\"/en/support/announcement/8c39c13af0154a25b391a3c1b32fbd7a\">Binance Launches $30,000 P2P Trading Competition</a>, <a class=\"css-sbrje5\" data-bn-type=\"link\" href=\"/en/support/announcement/087519dd117e4a7593dd318631471a74\">Update to the Binance USDT-Margined Futures Contract API</a>, <a class=\"css-sbrje5\" data-bn-type=\"link\" href=\"/en/support/announcement/88c27aa33b8e443c81d94c7f56639c06\">Updates to the Binance Savings API</a>, <a class=\"css-sbrje5\" data-bn-type=\"link\" href=\"/en/support/announcement/e3ebd4e635c74ba687bc15031b02aeb2\">API Functionality Now Enabled for Binance Liquid Swap</a>, <a class=\"css-sbrje5\" data-bn-type=\"link\" href=\"/en/support/announcement/8154893b1be34870aee9253828642290\">Updates to Scheduled Changes for the User Data Stream Websocket</a>, <a class=\"css-sbrje5\" data-bn-type=\"link\" href=\"/en/support/announcement/c386a9ce44e74e15a796f56289a763d6\">Updates to the User Data Stream Websocket Payloads</a>]\n"
     ]
    }
   ],
   "source": [
    "# Data for the scrap\n",
    "url = \"https://www.binance.com/en/support/announcement\"\n",
    "response = get(url)\n",
    "soup = BeautifulSoup(response.text, 'html.parser')\n",
    "news_list = soup.find_all(class_ = 'css-sbrje5')\n",
    "print(news_list)"
   ]
  },
  {
   "cell_type": "code",
   "execution_count": 8,
   "metadata": {},
   "outputs": [
    {
     "name": "stdout",
     "output_type": "stream",
     "text": [
      "                                                Text  \\\n",
      "0  Binance Lists Audius (AUDIO), Deposits Are Now...   \n",
      "1  Binance Lists Audius (AUDIO), Deposits Are Now...   \n",
      "2  Binance Will List EasyFi (EASY) in the Innovat...   \n",
      "3  Binance Futures Increased Maximum Leverage for...   \n",
      "4  Binance Futures Increases Maximum Leverage for...   \n",
      "5  Binance Lists Audius (AUDIO), Deposits Are Now...   \n",
      "6  Binance Lists Audius (AUDIO), Deposits Are Now...   \n",
      "7  Binance Will List EasyFi (EASY) in the Innovat...   \n",
      "8  Binance Futures Increased Maximum Leverage for...   \n",
      "9  Binance Futures Increases Maximum Leverage for...   \n",
      "\n",
      "                                                Link  \n",
      "0  https://www.binance.com/en/support/announcemen...  \n",
      "1  https://www.binance.com/en/support/announcemen...  \n",
      "2  https://www.binance.com/en/support/announcemen...  \n",
      "3  https://www.binance.com/en/support/announcemen...  \n",
      "4  https://www.binance.com/en/support/announcemen...  \n",
      "5  https://www.binance.com/en/support/announcemen...  \n",
      "6  https://www.binance.com/en/support/announcemen...  \n",
      "7  https://www.binance.com/en/support/announcemen...  \n",
      "8  https://www.binance.com/en/support/announcemen...  \n",
      "9  https://www.binance.com/en/support/announcemen...  \n"
     ]
    }
   ],
   "source": [
    "# Create a bag of key words for getting matches\n",
    "key_words = ['list','lists', 'token sale', 'open trading', 'opens trading', 'perpetual', 'defi', 'uniswap', 'airdrop']\n",
    "# Open old database file\n",
    "path = \"C:/Users/xico2/Desktop/ScrapedBin.xlsx\"\n",
    "df = pd.read_excel(path)\n",
    "print(df)"
   ]
  },
  {
   "cell_type": "code",
   "execution_count": 9,
   "metadata": {},
   "outputs": [],
   "source": [
    "# Empty list\n",
    "updated_list = []\n",
    "\n",
    "for news in news_list:\n",
    "\tarticle_text = news.text\n",
    "\n",
    "\t# Check for matchings\n",
    "\tfor item in key_words:\n",
    "\t\tif (item in article_text.lower()) and (article_text not in df.values):\n",
    "\t\t\tarticle_link = 'https://www.binance.com' + news.get('href')\n",
    "\t\t\tmsg = article_text + '\\n' + article_link\n",
    "\t\t\tupdated_list.append([article_text, article_link])\n",
    "\t\t\tprint(article_text)\n",
    "\n",
    "\t\t\t# Send message to Discord server\n",
    "\t\t\twebhook = DiscordWebhook(url=url_wb, content=msg)\n",
    "\t\t\tresponse = webhook.execute()\n"
   ]
  },
  {
   "cell_type": "code",
   "execution_count": 10,
   "metadata": {},
   "outputs": [],
   "source": [
    "# Export updated news to Excel\n",
    "cols = ['Text', 'Link']\n",
    "df = df.append(pd.DataFrame(updated_list, columns=cols), ignore_index = True)\n",
    "df.to_excel(path, index = False)"
   ]
  }
 ],
 "metadata": {
  "kernelspec": {
   "display_name": "Python 3",
   "language": "python",
   "name": "python3"
  },
  "language_info": {
   "codemirror_mode": {
    "name": "ipython",
    "version": 3
   },
   "file_extension": ".py",
   "mimetype": "text/x-python",
   "name": "python",
   "nbconvert_exporter": "python",
   "pygments_lexer": "ipython3",
   "version": "3.7.4"
  }
 },
 "nbformat": 4,
 "nbformat_minor": 4
}
