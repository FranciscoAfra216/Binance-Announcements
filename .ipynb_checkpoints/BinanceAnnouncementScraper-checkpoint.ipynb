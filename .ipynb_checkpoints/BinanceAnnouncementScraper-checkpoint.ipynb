{
 "cells": [
  {
   "cell_type": "code",
   "execution_count": 1,
   "metadata": {},
   "outputs": [],
   "source": [
    "import os, requests\n",
    "import pandas as pd\n",
    "from bs4 import BeautifulSoup\n",
    "from requests import get\n",
    "from discord_webhook import DiscordWebhook"
   ]
  },
  {
   "cell_type": "code",
   "execution_count": 19,
   "metadata": {},
   "outputs": [
    {
     "name": "stdout",
     "output_type": "stream",
     "text": [
      "None\n"
     ]
    }
   ],
   "source": [
    "# Webhook settings\n",
    "home = os.environ['HOME'] \n",
    "java_home = os.environ.get('JAVA_HOME')\n",
    "print(java_home) \n",
    "\n",
    "#url_wb = os.environ.get('DISCORD_WH')\n",
    "\n",
    "#print(url_wb)"
   ]
  },
  {
   "cell_type": "code",
   "execution_count": null,
   "metadata": {},
   "outputs": [],
   "source": [
    "# Data for the scrap\n",
    "url = \"https://www.binance.com/en/support/announcement\"\n",
    "response = get(url)\n",
    "soup = BeautifulSoup(response.text, 'html.parser')\n",
    "news_list = soup.find_all(class_ = 'css-sbrje5')"
   ]
  },
  {
   "cell_type": "code",
   "execution_count": null,
   "metadata": {},
   "outputs": [],
   "source": [
    "# Create a bag of key words for getting matches\n",
    "key_words = ['list', 'token sale', 'open trading', 'opens trading', 'perpetual', 'defi', 'uniswap', 'airdrop']\n",
    "\n",
    "# Open old database file\n",
    "path = \"/home/pi/OpenAlpha/db.xlsx\"\n",
    "df = pd.read_excel(path)"
   ]
  },
  {
   "cell_type": "code",
   "execution_count": null,
   "metadata": {},
   "outputs": [],
   "source": [
    "# Empty list\n",
    "updated_list = []\n",
    "\n",
    "for news in news_list:\n",
    "\tarticle_text = news.text\n",
    "\n",
    "\t# Check for matchings\n",
    "\tfor item in key_words:\n",
    "\t\tif (item in article_text.lower()) and (article_text not in df.values):\n",
    "\t\t\tarticle_link = 'https://www.binance.com' + news.get('href')\n",
    "\t\t\tmsg = article_text + '\\n' + article_link\n",
    "\t\t\tupdated_list.append([article_text, article_link])\n",
    "\t\t\tprint(article_text)\n",
    "\n",
    "\t\t\t# Send message to Discord server\n",
    "\t\t\twebhook = DiscordWebhook(url=url_wb, content=msg)\n",
    "\t\t\tresponse = webhook.execute()\n"
   ]
  },
  {
   "cell_type": "code",
   "execution_count": null,
   "metadata": {},
   "outputs": [],
   "source": [
    "# Export updated news to Excel\n",
    "cols = ['Text', 'Link']\n",
    "df = df.append(pd.DataFrame(updated_list, columns=cols), ignore_index = True)\n",
    "df.to_excel(path, index = False)"
   ]
  }
 ],
 "metadata": {
  "kernelspec": {
   "display_name": "Python 3",
   "language": "python",
   "name": "python3"
  },
  "language_info": {
   "codemirror_mode": {
    "name": "ipython",
    "version": 3
   },
   "file_extension": ".py",
   "mimetype": "text/x-python",
   "name": "python",
   "nbconvert_exporter": "python",
   "pygments_lexer": "ipython3",
   "version": "3.7.4"
  }
 },
 "nbformat": 4,
 "nbformat_minor": 4
}
